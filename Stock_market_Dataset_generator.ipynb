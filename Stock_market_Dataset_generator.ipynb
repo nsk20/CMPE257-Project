{
  "nbformat": 4,
  "nbformat_minor": 0,
  "metadata": {
    "colab": {
      "provenance": [],
      "authorship_tag": "ABX9TyNomREsEvX5RPiC8StDLeag",
      "include_colab_link": true
    },
    "kernelspec": {
      "name": "python3",
      "display_name": "Python 3"
    },
    "language_info": {
      "name": "python"
    }
  },
  "cells": [
    {
      "cell_type": "markdown",
      "metadata": {
        "id": "view-in-github",
        "colab_type": "text"
      },
      "source": [
        "<a href=\"https://colab.research.google.com/github/nsk20/CMPE257-Project/blob/main/Stock_market_Dataset_generator.ipynb\" target=\"_parent\"><img src=\"https://colab.research.google.com/assets/colab-badge.svg\" alt=\"Open In Colab\"/></a>"
      ]
    },
    {
      "cell_type": "code",
      "source": [
        "import yfinance as yf\n",
        "import pandas as pd\n",
        "\n",
        "# Specify the ticker symbols for S&P 500 and DJIA, and date range\n",
        "sp500_symbol = \"^GSPC\"\n",
        "djia_symbol = \"^DJI\"\n",
        "start_date = \"2008-01-01\"\n",
        "end_date = \"2019-12-31\"\n",
        "\n",
        "# Fetch historical data for S&P 500 and DJIA using yfinance\n",
        "sp500_data = yf.download(sp500_symbol, start=start_date, end=end_date)\n",
        "djia_data = yf.download(djia_symbol, start=start_date, end=end_date)\n",
        "\n",
        "# Add columns to S&P 500 data\n",
        "sp500_data['Daily_Return'] = sp500_data['Adj Close'].pct_change()\n",
        "sp500_data['Rolling_Avg_Close'] = sp500_data['Adj Close'].rolling(window=5).mean()\n",
        "\n",
        "# Add columns to DJIA data\n",
        "djia_data['Daily_Return'] = djia_data['Adj Close'].pct_change()\n",
        "djia_data['Rolling_Avg_Close'] = djia_data['Adj Close'].rolling(window=5).mean()\n",
        "\n",
        "# Reset index for both data sets\n",
        "sp500_data.reset_index(inplace=True)\n",
        "djia_data.reset_index(inplace=True)\n",
        "\n",
        "# Combine both data sets\n",
        "combined_data = pd.merge(sp500_data, djia_data, on='Date', suffixes=('_sp500', '_djia'))\n",
        "\n",
        "# Save the combined data to an Excel file\n",
        "combined_data.to_excel('combined_historical_data_yfinance.xlsx', index=False)\n",
        "\n",
        "print('Stock data retrieved, processed, and saved successfully.')\n"
      ],
      "metadata": {
        "colab": {
          "base_uri": "https://localhost:8080/"
        },
        "id": "b9InXd7_EAde",
        "outputId": "38aba4ad-ec31-4342-f9b7-6d28efb991aa"
      },
      "execution_count": 3,
      "outputs": [
        {
          "output_type": "stream",
          "name": "stdout",
          "text": [
            "[*********************100%%**********************]  1 of 1 completed\n",
            "[*********************100%%**********************]  1 of 1 completed\n",
            "Stock data retrieved, processed, and saved successfully.\n"
          ]
        }
      ]
    }
  ]
}